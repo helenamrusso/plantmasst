{
 "cells": [
  {
   "cell_type": "code",
   "execution_count": 1,
   "metadata": {},
   "outputs": [],
   "source": [
    "import pandas as pd\n",
    "import os"
   ]
  },
  {
   "cell_type": "code",
   "execution_count": 2,
   "metadata": {},
   "outputs": [
    {
     "name": "stdout",
     "output_type": "stream",
     "text": [
      "/Users/helenarusso/Documents/Pesquisa/UCSD Post-doc/PlantMASST/Examples paper/NIST_diet_vegetarian_omnivore_MSV000086989/fastMASST_Mar2024_all_features.nosync/combined_tables/DietNIST_analog_off_combined_tables\n"
     ]
    }
   ],
   "source": [
    "cd /path/DietNIST_analog_off_combined_tables\n"
   ]
  },
  {
   "cell_type": "code",
   "execution_count": 3,
   "metadata": {},
   "outputs": [],
   "source": [
    "#First let's organize all the files we have in the folder of the fastMASST results"
   ]
  },
  {
   "cell_type": "code",
   "execution_count": 6,
   "metadata": {},
   "outputs": [],
   "source": [
    "# define the folder path\n",
    "folder_path_nosync = '/path/fastMASST_Mar2024_all_features.nosync/analog_off'\n",
    "\n",
    "# get the list of filenames in the folder\n",
    "filenames_nosync = os.listdir(folder_path_nosync)\n",
    "\n",
    "# create a text file with the filenames\n",
    "with open(\"filenames.txt\", \"w\") as f:\n",
    "    f.write(\"\\n\".join(filenames_nosync))\n",
    "    \n",
    "#Create dataframe \n",
    "filenames_df_nosync = pd.DataFrame(filenames_nosync, columns=['filename'])\n",
    "filenames_df_nosync['Scan'] = filenames_df_nosync['filename'].str.split('_').str[4] # make sure you put the correct\n",
    "#number here on the split and the proper separator in your case so that Scan column will indeed contain the scan.\n"
   ]
  },
  {
   "cell_type": "code",
   "execution_count": 7,
   "metadata": {},
   "outputs": [
    {
     "data": {
      "text/html": [
       "<div>\n",
       "<style scoped>\n",
       "    .dataframe tbody tr th:only-of-type {\n",
       "        vertical-align: middle;\n",
       "    }\n",
       "\n",
       "    .dataframe tbody tr th {\n",
       "        vertical-align: top;\n",
       "    }\n",
       "\n",
       "    .dataframe thead th {\n",
       "        text-align: right;\n",
       "    }\n",
       "</style>\n",
       "<table border=\"1\" class=\"dataframe\">\n",
       "  <thead>\n",
       "    <tr style=\"text-align: right;\">\n",
       "      <th></th>\n",
       "      <th>filename</th>\n",
       "      <th>Scan</th>\n",
       "    </tr>\n",
       "  </thead>\n",
       "  <tbody>\n",
       "    <tr>\n",
       "      <th>0</th>\n",
       "      <td>fastMASST_NIST_analog_off_10534_datasets.tsv</td>\n",
       "      <td>10534</td>\n",
       "    </tr>\n",
       "    <tr>\n",
       "      <th>1</th>\n",
       "      <td>fastMASST_NIST_analog_off_13537_gloabl.json</td>\n",
       "      <td>13537</td>\n",
       "    </tr>\n",
       "    <tr>\n",
       "      <th>2</th>\n",
       "      <td>fastMASST_NIST_analog_off_12819_microbe.html</td>\n",
       "      <td>12819</td>\n",
       "    </tr>\n",
       "    <tr>\n",
       "      <th>3</th>\n",
       "      <td>fastMASST_NIST_analog_off_11528_combined.html</td>\n",
       "      <td>11528</td>\n",
       "    </tr>\n",
       "    <tr>\n",
       "      <th>4</th>\n",
       "      <td>fastMASST_NIST_analog_off_6815_matches.tsv</td>\n",
       "      <td>6815</td>\n",
       "    </tr>\n",
       "    <tr>\n",
       "      <th>...</th>\n",
       "      <td>...</td>\n",
       "      <td>...</td>\n",
       "    </tr>\n",
       "    <tr>\n",
       "      <th>150324</th>\n",
       "      <td>fastMASST_NIST_analog_off_13878_plant.json</td>\n",
       "      <td>13878</td>\n",
       "    </tr>\n",
       "    <tr>\n",
       "      <th>150325</th>\n",
       "      <td>fastMASST_NIST_analog_off_9364_library.tsv</td>\n",
       "      <td>9364</td>\n",
       "    </tr>\n",
       "    <tr>\n",
       "      <th>150326</th>\n",
       "      <td>fastMASST_NIST_analog_off_6536_plant.json</td>\n",
       "      <td>6536</td>\n",
       "    </tr>\n",
       "    <tr>\n",
       "      <th>150327</th>\n",
       "      <td>fastMASST_NIST_analog_off_15231_food.json</td>\n",
       "      <td>15231</td>\n",
       "    </tr>\n",
       "    <tr>\n",
       "      <th>150328</th>\n",
       "      <td>fastMASST_NIST_analog_off_7986_gloabl.json</td>\n",
       "      <td>7986</td>\n",
       "    </tr>\n",
       "  </tbody>\n",
       "</table>\n",
       "<p>150329 rows × 2 columns</p>\n",
       "</div>"
      ],
      "text/plain": [
       "                                             filename   Scan\n",
       "0        fastMASST_NIST_analog_off_10534_datasets.tsv  10534\n",
       "1         fastMASST_NIST_analog_off_13537_gloabl.json  13537\n",
       "2        fastMASST_NIST_analog_off_12819_microbe.html  12819\n",
       "3       fastMASST_NIST_analog_off_11528_combined.html  11528\n",
       "4          fastMASST_NIST_analog_off_6815_matches.tsv   6815\n",
       "...                                               ...    ...\n",
       "150324     fastMASST_NIST_analog_off_13878_plant.json  13878\n",
       "150325     fastMASST_NIST_analog_off_9364_library.tsv   9364\n",
       "150326      fastMASST_NIST_analog_off_6536_plant.json   6536\n",
       "150327      fastMASST_NIST_analog_off_15231_food.json  15231\n",
       "150328     fastMASST_NIST_analog_off_7986_gloabl.json   7986\n",
       "\n",
       "[150329 rows x 2 columns]"
      ]
     },
     "execution_count": 7,
     "metadata": {},
     "output_type": "execute_result"
    }
   ],
   "source": [
    "filenames_df_nosync #make sure that the scan number was split into a separate column. This is important to know \n",
    "# from which scan number in the mgf file the match is relative to."
   ]
  },
  {
   "cell_type": "code",
   "execution_count": 8,
   "metadata": {},
   "outputs": [],
   "source": [
    "#let's categorize all results\n",
    "microbe = filenames_df_nosync[filenames_df_nosync['filename'].str.contains('microbe.tsv')]\n",
    "food = filenames_df_nosync[filenames_df_nosync['filename'].str.contains('food.tsv')]\n",
    "plant = filenames_df_nosync[filenames_df_nosync['filename'].str.contains('plant.tsv')]\n",
    "datasets = filenames_df_nosync[filenames_df_nosync['filename'].str.contains('datasets.tsv')]\n",
    "matches = filenames_df_nosync[filenames_df_nosync['filename'].str.contains('matches.tsv')]\n",
    "gloabl = filenames_df_nosync[filenames_df_nosync['filename'].str.contains('gloabl.tsv')]"
   ]
  },
  {
   "cell_type": "code",
   "execution_count": 9,
   "metadata": {},
   "outputs": [
    {
     "name": "stdout",
     "output_type": "stream",
     "text": [
      "7549\n",
      "4535\n",
      "6742\n",
      "14294\n",
      "15143\n",
      "14271\n"
     ]
    }
   ],
   "source": [
    "#how many scans had results in each domain?\n",
    "\n",
    "print(len(microbe))\n",
    "print(len(food))\n",
    "print(len(plant))\n",
    "print(len(datasets))\n",
    "print(len(matches))\n",
    "print(len(gloabl))"
   ]
  },
  {
   "cell_type": "code",
   "execution_count": 10,
   "metadata": {},
   "outputs": [],
   "source": [
    "#specify the domains to consider\n",
    "domains = ['microbe.tsv', 'food.tsv', 'plant.tsv', 'datasets.tsv', 'matches.tsv', 'gloabl.tsv']\n",
    "\n",
    "#combine all the files within each domain. Create tsv files.\n",
    "output_file = '/path/combined_tables/NISTDiet_'\n",
    "\n",
    "for domain in domains:\n",
    "    i = 0\n",
    "    for file in filenames_nosync: \n",
    "        if file.endswith(domain):\n",
    "            with open(os.path.join(folder_path_nosync, file), 'r') as f:\n",
    "                with open(output_file + domain, 'a') as out_f:\n",
    "#                     head = file.split('/')[-1].split('_')[1] # specify the columns you want to have in the output\n",
    "                    scan = file.split('/')[-1].split('_')[2] \n",
    "                    if i == 0:\n",
    "                        header = next(f).strip()\n",
    "                        print(header + '\\tScan', file=out_f)\n",
    "                    else:\n",
    "                        next(f)\n",
    "                    for line in f:\n",
    "                        print(line.strip() + '\\t' + scan, file=out_f)\n",
    "                    i += 1"
   ]
  },
  {
   "cell_type": "code",
   "execution_count": null,
   "metadata": {},
   "outputs": [],
   "source": []
  },
  {
   "cell_type": "code",
   "execution_count": null,
   "metadata": {},
   "outputs": [],
   "source": []
  }
 ],
 "metadata": {
  "kernelspec": {
   "display_name": "Python 3",
   "language": "python",
   "name": "python3"
  },
  "language_info": {
   "codemirror_mode": {
    "name": "ipython",
    "version": 3
   },
   "file_extension": ".py",
   "mimetype": "text/x-python",
   "name": "python",
   "nbconvert_exporter": "python",
   "pygments_lexer": "ipython3",
   "version": "3.7.6"
  }
 },
 "nbformat": 4,
 "nbformat_minor": 4
}
