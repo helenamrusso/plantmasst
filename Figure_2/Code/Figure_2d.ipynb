{
 "cells": [
  {
   "cell_type": "code",
   "execution_count": 1,
   "metadata": {},
   "outputs": [],
   "source": [
    "import matplotlib.pyplot as plt\n",
    "import matplotlib\n",
    "import seaborn as sns\n",
    "import pandas as pd\n",
    "from statannotations.Annotator import Annotator\n",
    "import scipy.stats as stats\n",
    "%matplotlib inline\n",
    "matplotlib.rcParams['pdf.fonttype'] = 42\n",
    "matplotlib.rcParams['ps.fonttype'] = 42"
   ]
  },
  {
   "cell_type": "code",
   "execution_count": null,
   "metadata": {},
   "outputs": [],
   "source": []
  },
  {
   "cell_type": "markdown",
   "metadata": {},
   "source": [
    "# American vs Mediterranean diet dataset\n"
   ]
  },
  {
   "cell_type": "code",
   "execution_count": 2,
   "metadata": {},
   "outputs": [],
   "source": [
    "#import dataframes\n",
    "\n",
    "#import MZmine feature table\n",
    "ftable_mzmine = pd.read_csv('/path/Beef_ConjBA_iimn_quant.csv', sep=';', index_col=0)\n",
    "#import the combined plantmasst table\n",
    "plantmasst = pd.read_csv('/path/PattersonDiet_plant.tsv', sep='\\t')\n",
    "#import the metadata of the study\n",
    "metadata = pd.read_csv('/path/Patterson_metadata.csv', sep=';')\n",
    "#import a dataframe with features with MS2\n",
    "features_ms2 = pd.read_csv('/path/features_ms2.tsv', sep='\\t')"
   ]
  },
  {
   "cell_type": "code",
   "execution_count": 3,
   "metadata": {},
   "outputs": [],
   "source": [
    "#first, let's remove the features that do not have MS/MS data\n",
    "ftable_mzmine = ftable_mzmine[ftable_mzmine.index.isin(features_ms2['row ID'])]\n",
    "\n",
    "\n",
    "#define a function to process and analyze the dataset\n",
    "\n",
    "def preprocess_and_analyze_abundance(ftable_mzmine, plantmasst, metadata):\n",
    "    # Filter out specified rows from plantmasst\n",
    "    plantmasst_filtered = plantmasst[(plantmasst.Blank != 'Yes') & \n",
    "                                             (plantmasst.QC != 'Yes') & \n",
    "                                             (plantmasst.MassIVE != 'MSV000083756')]\n",
    "\n",
    "    # Compare the row IDs with the scan numbers that had matches and add new columns\n",
    "    new_columns = {}\n",
    "    for column in ftable_mzmine.columns:\n",
    "        column_name_temp = column + '_plantmasst'  # Add suffix\n",
    "        new_column = pd.Series(0, index=ftable_mzmine.index)  # Initialize the new column with zeros\n",
    "        # Assign the value from ftable_mzmine where there's a match\n",
    "        new_column[(ftable_mzmine[column] != 0) & \n",
    "                   (ftable_mzmine.index.isin(plantmasst_filtered['Scan']))] = ftable_mzmine[column]\n",
    "        new_columns[column_name_temp] = new_column  # Add new columns to the dictionary\n",
    "\n",
    "    ftable_mzmine = pd.concat([ftable_mzmine, pd.DataFrame(new_columns)], axis=1)\n",
    "\n",
    "    # Calculate sum of each column to get the number of total features\n",
    "    sums = ftable_mzmine.sum(axis=0)\n",
    "    summed_df = pd.DataFrame({'filename': sums.index, 'total_features': sums.values})\n",
    "\n",
    "    # Create a new column 'plantmasst_features' by summing columns with '_plantmasst' suffix\n",
    "    summed_df['plantmasst_features'] = summed_df['filename'].apply(\n",
    "        lambda x: summed_df.loc[summed_df['filename'] == x + '_plantmasst', 'total_features'].sum())\n",
    "\n",
    "    # Drop rows with the original column names (without '_plantmasst')\n",
    "    summed_df = summed_df[~summed_df['filename'].str.contains('_plantmasst')]\n",
    "\n",
    "    # Reset the index\n",
    "    summed_df = summed_df.reset_index(drop=True)\n",
    "\n",
    "    # Calculate the percentage of the total features that had a match with plantmasst\n",
    "    summed_df['percentage'] = summed_df['plantmasst_features'] / summed_df['total_features'] * 100\n",
    "\n",
    "    # Merge with metadata and reorganize\n",
    "    summed_df_merged = pd.merge(summed_df, metadata, on='filename', how='left')\n",
    "\n",
    "    return summed_df_merged\n",
    "\n",
    "#apply the function\n",
    "summed_df_merged = preprocess_and_analyze_abundance(ftable_mzmine, plantmasst, metadata)\n",
    "\n",
    "#Remove the rows relative to pool, blank injections, and Baseline group\n",
    "summed_df_merged = summed_df_merged.fillna('NA')\n",
    "summed_df_merged = summed_df_merged[summed_df_merged['diet'] != 'NA']\n",
    "summed_df_merged = summed_df_merged[summed_df_merged['MS_type'] != 'ddMS2_pos']\n",
    "summed_df_merged = summed_df_merged[summed_df_merged['diet'] != 'Baseline']\n",
    "\n",
    "#put in the correct order\n",
    "order = ['American', 'Mediterranean']\n",
    "\n",
    "summed_df_merged['diet'] = pd.Categorical(summed_df_merged['diet'], categories=order, ordered=True)\n",
    "summed_df_merged = summed_df_merged.sort_values('diet')\n"
   ]
  },
  {
   "cell_type": "code",
   "execution_count": 4,
   "metadata": {},
   "outputs": [
    {
     "name": "stdout",
     "output_type": "stream",
     "text": [
      "American vs. Mediterranean: Mann-Whitney-Wilcoxon test two-sided, P_val:4.358e-02 U_stat=8.190e+02\n"
     ]
    },
    {
     "data": {
      "image/png": "[encoded data removed]",
      "text/plain": [
       "<Figure size 216x324 with 1 Axes>"
      ]
     },
     "metadata": {
      "needs_background": "light"
     },
     "output_type": "display_data"
    }
   ],
   "source": [
    "#plot\n",
    "plt.figure(figsize=(3, 4.5))\n",
    "\n",
    "my_pal = {'Mediterranean': 'mediumseagreen', 'American': 'salmon'}\n",
    "\n",
    "# Create boxplot and stripplot\n",
    "ax = sns.boxplot(x='diet', y='percentage', data=summed_df_merged, order=order, notch=False, \n",
    "                 palette={'Mediterranean': 'white', 'American': 'white'})\n",
    "\n",
    "# Add colored dots for each category\n",
    "for diet in summed_df_merged['diet'].unique():\n",
    "    sns.stripplot(\n",
    "        x='diet', \n",
    "        y='percentage', \n",
    "        data=summed_df_merged[summed_df_merged['diet'] == diet], \n",
    "        color=my_pal[diet], \n",
    "        jitter=0.15, \n",
    "        size=6,\n",
    "        ax=ax\n",
    "    )\n",
    "\n",
    "# Define pairs for comparison\n",
    "pairs = [(\"American\", \"Mediterranean\")]\n",
    "\n",
    "# Initialize the Annotator with the defined pairs, data, and axis configuration\n",
    "annotator = Annotator(ax, pairs, data=summed_df_merged, x='diet', y='percentage', order=order)\n",
    "annotator.configure(test='Mann-Whitney', text_format='full', loc='outside',\n",
    "                    pvalue_format_string=\"{:.3f}\")\n",
    "\n",
    "# Change the axis titles here\n",
    "plt.xlabel('Dietary Group', size=12)  # Change the X-axis title\n",
    "plt.ylabel('Percentage of matches to plantMASST', size = 12)     # Change the Y-axis title\n",
    "\n",
    "for i, artist in enumerate(ax.artists):\n",
    "    artist.set_edgecolor(my_pal[summed_df_merged['diet'].unique()[i]])\n",
    "    # Each patch has 6 associated Line2D objects (the whiskers, the caps, and the median)\n",
    "    for j in range(i*6, i*6+6):\n",
    "        line = ax.lines[j]\n",
    "        line.set_color(my_pal[summed_df_merged['diet'].unique()[i]])\n",
    "        line.set_mfc(my_pal[summed_df_merged['diet'].unique()[i]])\n",
    "        line.set_mec(my_pal[summed_df_merged['diet'].unique()[i]])\n",
    "\n",
    "# Hide the top and right spines\n",
    "sns.despine()\n",
    "\n",
    "# Customization for the lines: only leave the bottom and left spines\n",
    "ax = plt.gca()  # Get the current Axes instance\n",
    "ax.spines['right'].set_visible(False)\n",
    "ax.spines['top'].set_visible(False)\n",
    "\n",
    "# Apply and annotate statistical tests\n",
    "annotator.apply_and_annotate()\n",
    "\n",
    "# plt.savefig('/path/American_vs_Mediterranean.pdf')\n",
    "plt.show()"
   ]
  },
  {
   "cell_type": "code",
   "execution_count": null,
   "metadata": {},
   "outputs": [],
   "source": []
  },
  {
   "cell_type": "code",
   "execution_count": null,
   "metadata": {},
   "outputs": [],
   "source": []
  },
  {
   "cell_type": "code",
   "execution_count": null,
   "metadata": {},
   "outputs": [],
   "source": []
  }
 ],
 "metadata": {
  "kernelspec": {
   "display_name": "Python 3",
   "language": "python",
   "name": "python3"
  },
  "language_info": {
   "codemirror_mode": {
    "name": "ipython",
    "version": 3
   },
   "file_extension": ".py",
   "mimetype": "text/x-python",
   "name": "python",
   "nbconvert_exporter": "python",
   "pygments_lexer": "ipython3",
   "version": "3.7.6"
  }
 },
 "nbformat": 4,
 "nbformat_minor": 4
}
